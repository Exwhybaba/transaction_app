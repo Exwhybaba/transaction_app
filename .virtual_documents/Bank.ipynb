import pandas as pd
import seaborn as sb
import numpy as np
import matplotlib.pyplot as plt
from IPython.display import display
import datetime as dt
import plotly.express as px

np.set_printoptions(suppress=True)


path = r"C:\Users\HomePC\Documents\dataset\Bank customer details.xlsx"


files = pd.ExcelFile(path)


files_name = files.sheet_names
files_name


dfs = [files.parse(i) for i in range(len(files_name))]
cus_df, acc_df, loan_df, trans_df, trans_time_df = dfs


all_dfs = [cus_df, acc_df, loan_df, trans_df, trans_time_df]

for i, j in zip(all_dfs, files_name):
    print('-' * 120)
    print('-' * 120)
    print(f'                                      {j}  dataset')
    display(i.head())
    print('-' * 120)
    display(i.shape)





cus_df, acc_df, loan_df, trans_df, trans_time_df



cus_acc_df = cus_df.merge(acc_df, on=['Customer_id', 'Account Number'], how = 'left')

cus_acc_df.head()


Transact_df = trans_df.merge(trans_time_df, on=['Transaction_id', 'Account Number'], how = 'left')

Transact_df.head()


dfx = cus_acc_df.merge(Transact_df, on= 'Account Number', how= 'left')
dfx.head()


df_all = dfx.merge(loan_df, on = ['Customer_id', 'Account Number','City id'], how = 'left')

df_all.head()


df_all.info()


df_all.isna().sum()


df_all.duplicated().sum()


Information_Technology_And_Software = 'Software Engineer I–IV|Developer I–IV|Senior Developer|Programmer I–IV|Programmer Analyst I–IV|Analyst Programmer|Software Test Engineer I–IV|Software Consultant|Web Designer I–IV|Web Developer I–IV|Graphic Designer|Media Manager I–IV|Help Desk Operator|Help Desk Technician|Desktop Support Technician|Systems Administrator I–IV|Information Systems Manager|Database Administrator I–IV|Computer Systems Analyst I–IV|Business Systems Development Analyst|GIS Technical Architect'

Accounting_And_Finance = 'Accountant I–IV|Staff Accountant I–IV|Budget/Accounting Analyst I–IV|Financial Analyst|Senior Financial Analyst|Cost Accountant|Senior Cost Accountant|Tax Accountant|Accounting Assistant I–IV|Internal Auditor|Compensation Analyst|VP Accounting|Financial Advisor'

Engineering = 'Engineer I–IV|Design Engineer|Quality Engineer|Senior Quality Engineer|Chemical Engineer|Civil Engineer|Electrical Engineer|Mechanical Systems Engineer|Product Engineer|Structural Engineer|Structural Analysis Engineer|Geological Engineer|Analog Circuit Design Manager|Chief Design Engineer|Nuclear Power Engineer'

Science_And_Research = 'Research Assistant I–IV|Research Associate|Staff Scientist|Research Nurse|Food Chemist|Environmental Specialist|Environmental Tech|Geologist I–IV|Biostatistician I–IV|Statistician I–IV|Actuary'

Healthcare = 'Nurse|Registered Nurse|Nurse Practitioner|Occupational Therapist|Dental Hygienist|Speech Pathologist|Physical Therapy Assistant|Clinical Specialist|Health Coach I–IV|Pharmacist'

Human_Resources_And_Administration = 'Human Resources Assistant I–IV|Human Resources Manager|Administrative Assistant I–IV|Administrative Officer|Executive Secretary|Director of Sales|Recruiting Manager|Recruiter|VP Sales'

Marketing_Sales_And_Customer_Service = 'Sales Associate|Sales Representative|Account Representative I–IV|Account Executive|Account Coordinator|Marketing Manager|Marketing Assistant|Assistant Media Planner|VP Marketing|Community Outreach Specialist|Media Manager I–IV'

Education = 'Teacher|Professor|Assistant Professor|Associate Professor'

Legal = 'Paralegal|Legal Assistant'

Writing_And_Content = 'Technical Writer|Editor|Senior Editor|Librarian'

Executive_And_Management = 'General Manager|Assistant Manager|Junior Executive|VP Product Management|VP Quality Control'

Office_And_Clerical = 'Office Assistant I–IV|Operator|Data Coordinator|Payment Adjustment Coordinator'

#Others = 'Welder|Tailor|Farmer|Student|'



Information_Technology_And_Software_df = df_all[df_all['Occupation'].str.contains(Information_Technology_And_Software, na=False, regex=True)]
Accounting_And_Finance_df = df_all[df_all['Occupation'].str.contains(Accounting_And_Finance, na=False, regex=True)]
Engineering_df = df_all[df_all['Occupation'].str.contains(Engineering, na=False, regex=True)]
Science_And_Research_df = df_all[df_all['Occupation'].str.contains(Science_And_Research, na=False, regex=True)]
Healthcare_df = df_all[df_all['Occupation'].str.contains(Healthcare, na=False, regex=True)]
HR_Admin_df = df_all[df_all['Occupation'].str.contains(Human_Resources_And_Administration, na=False, regex=True)]
Marketing_Sales_Customer_df = df_all[df_all['Occupation'].str.contains(Marketing_Sales_And_Customer_Service, na=False, regex=True)]
Education_df = df_all[df_all['Occupation'].str.contains(Education, na=False, regex=True)]
Legal_df = df_all[df_all['Occupation'].str.contains(Legal, na=False, regex=True)]
Writing_Content_df = df_all[df_all['Occupation'].str.contains(Writing_And_Content, na=False, regex=True)]
Executive_Management_df = df_all[df_all['Occupation'].str.contains(Executive_And_Management, na=False, regex=True)]
Office_Clerical_df = df_all[df_all['Occupation'].str.contains(Office_And_Clerical, na=False, regex=True)]






sub_df = [Information_Technology_And_Software_df, Accounting_And_Finance_df, Engineering_df,Science_And_Research_df, Healthcare_df,
HR_Admin_df,  Marketing_Sales_Customer_df, Education_df, Legal_df, Writing_Content_df, Executive_Management_df, Office_Clerical_df]

names = [
    "Information_Technology_And_Software_df",
    "Accounting_And_Finance_df",
    "Engineering_df",
    "Science_And_Research_df",
    "Healthcare_df",
    "HR_Admin_df",
    "Marketing_Sales_Customer_df",
    "Education_df",
    "Legal_df",
    "Writing_Content_df",
    "Executive_Management_df",
    "Office_Clerical_df"
]


names = [name.strip('_df') for name in names]

for df, name in zip(sub_df, names):
    df['Occupation'] = name


Information_Technology_And_Software_df.head()


Accounting_And_Finance_df.head()


dfx_all = pd.concat(sub_df, axis= 0).sort_values(by = 'Account Number').reset_index(drop = True)


dfx_all


dfx_all.isna().sum()


dfx_all.drop(columns= 'Unnamed: 10', inplace = True)


dfx_all.columns[dfx_all.isna().any()].tolist()



for col in dfx_all.columns[dfx_all.isna().any()].tolist():
    if col != 'Transaction time':
        dfx_all[col].fillna(0, inplace =True)


dfx_all.isna().sum()


cols = dfx_all.columns

for col in cols:
    print(f'{col}----' + '--'* 10 + f'{dfx_all[col].unique()}')


dfx_all['Amount'] = dfx_all['Amount'].str.split('GN', expand = True)[1]


dfx_all['Amount'] =  dfx_all['Amount'].astype('float')





dfx_all['Opening Balance'] = (
    dfx_all['Opening Balance']
    .str.replace(',', '.', regex=False)
    .str.extract(r'([\d\.]+)')      
    .astype(float)
)



dfx_all['Opening Balance'] = round(dfx_all['Opening Balance'].astype('float'), 2)


bank_deposit = dfx_all['Bank Deposit'].str.replace('_x0002_', '', regex=False)
bank_deposit = bank_deposit.replace(['', '-'], [np.nan, np.nan])

bank_deposit = round(bank_deposit.astype('float'), 2)
bank_deposit = bank_deposit.fillna(0)


dfx_all['Bank Deposit'] = bank_deposit
dfx_all['Bank Deposit'].head()


sav_acc = dfx_all['Saving Accounts'].replace('-', np.nan)
sav_acc  = round(sav_acc.astype('float'), 2)
sav_acc =  sav_acc.fillna(0)


dfx_all['Saving Accounts'] = sav_acc


dfx_all['Transaction time']


dfx_all['Transaction Hour'] = pd.to_datetime(dfx_all['Transaction time'], format='%H:%M:%S', errors='coerce').dt.hour
dfx_all['Transaction time'] = pd.to_datetime(dfx_all['Transaction time'], format='%H:%M:%S', errors='coerce').dt.time



dfx_all['Transaction time'].dtype


dfx_all['Transaction type'].unique()


dfx_all['Transaction time'].value_counts().sort_index()


dfx_all['Transaction Hour'].unique()


dfx_all['Transaction Hour'] = dfx_all.groupby('Transaction type')['Transaction Hour'].transform(
    lambda x: x.fillna(x.mode().iloc[0]) if not x.mode().empty else x.fillna(method='ffill')
)



dfx_all['Transaction Hour'].unique()


dfx_all['Transaction Hour'].value_counts().sort_index()


dfx_all.drop(columns= 'Transaction time', inplace = True)


dfx_all.isna().sum()


dfx_all.duplicated().sum()


dfx_all.drop_duplicates(inplace= True)


dfx_all['Bank Loans'] = dfx_all['Bank Loans'].astype('str')


dfx_all['Bank Loans'].unique()[:12]


dfx_all['Bank Loans'] =  dfx_all['Bank Loans'].apply(lambda x: x.replace('N', ''))
dfx_all['Bank Loans'] =  dfx_all['Bank Loans'].apply(lambda x: x.replace(',', ''))
dfx_all['Bank Loans'] = pd.to_numeric(dfx_all['Bank Loans'])


dfx_all['Bank Loans'].unique()[:12]





dfx_all.columns


bins = [17, 19, 29, 64, 74, 86]
labels = ['Teen', 'Young Adult', 'Adult', 'Senior', 'Old'] 
dfx_all["Age_class"] = pd.cut(dfx_all['Age'], bins = bins, labels = labels, include_lowest=True)

dfx_all[dfx_all['Age'].apply(lambda x : x == 75)][['Age', 'Age_class']].head()


dfx_all['Age_class'].dtype


cateCol = dfx_all.select_dtypes('object').columns


cateCol


## Univariant Function

def bar_chat(Var):
    count = dfx_all[Var].value_counts()
    labels = count.index
    values = count.values
    x = np.arange(len(labels))  
    plt.figure(figsize=(10, 6))
    plt.bar(x, values, edgecolor='black')
    plt.title(f'{Var} Count')
    plt.xticks(x, labels, rotation=45, ha='right')  # fix label alignment
    plt.xlabel(Var)
    plt.ylabel('Counts')
    plt.tight_layout()  # prevent label cutoff
    plt.grid(axis='y', linestyle='--', alpha=0.5)
    plt.show()



def bar_chat_pc(Var):
    count = round(dfx_all[Var].value_counts(normalize= True) *100, 2)
    plt.figure(figsize=(8, 5))
    plt.bar(count.index, count.values)
    plt.title(Var + ' ' + 'Count')
    plt.xlabel(Var)
    plt.ylabel('Counts')



def histogram(var, size = 5):
    data = dfx_all[var]
    bins = np.arange(data.min(), data.max() + size, size)  
    plt.figure(figsize=(8, 5))
    plt.hist(data, bins=bins, edgecolor='black', align='left')
    plt.title(f'Distribution of {var}')
    plt.xlabel(var)
    plt.ylabel('Frequency')
    plt.xticks(bins)
    plt.grid(axis='y', linestyle='--', alpha=0.7)
    plt.show()


cateCol


not_plot = ['Customer_id', 'City id', 'Transaction_id', 'Full name']
for col in cateCol:
    if col not in not_plot:
        bar_chat(col)


bar_chat('Age_class')





plt.figure(figsize=[10,6])
sb.scatterplot(data= dfx_all, x= 'Bank Deposit', y= 'Saving Accounts')
plt.xlabel('Bank Deposit')
plt.ylabel('Saving Accounts')
plt.title('Savings vs Deposits');


Top_10_Cus = dfx_all[['Full name', 'Bank Deposit', 'Saving Accounts']].nlargest(n= 10, columns = ['Bank Deposit', 'Saving Accounts'])
Top_10_Cus


Top_10_Cus.plot(
    x='Full name',
    y=['Bank Deposit', 'Saving Accounts'],
    kind='bar',
    figsize=(12,6)
)
plt.title("Top 10 Customers by Bank Deposit and Saving Accounts")
plt.xticks(rotation=45)
plt.ylabel("Amount")
plt.tight_layout()
plt.show()



dfx_all.groupby('Date_of_transaction')['Amount'].sum().plot(kind = 'line', figsize = [12,6])
plt.title('Total Transaction Amount per Day')
plt.xlabel('Date')
plt.ylabel('Total Amount');


dfx_all.groupby('Transaction type')['Amount'].sum().plot(kind = 'bar', figsize = [12,6])
plt.title('Amount by Transaction Type')
plt.xlabel('Transaction Type')
plt.ylabel('Total Amount');


dfx_all.groupby('Transaction Medium')['Amount'].sum().plot(kind = 'bar', figsize = [12,6])
plt.title('Amount by Transaction Medium')
plt.xlabel('Transaction Medium')
plt.ylabel('Total Amount');


grp_sex_trans = pd.pivot_table(data= dfx_all, index= 'Sex', columns= ['Transaction Medium'], values= 'Amount', aggfunc= 'mean')
grp_sex_trans


dfx_all.groupby('Transaction Hour')['Amount'].sum().plot(kind = 'bar', figsize = [8,6])
plt.title('Amount by Transaction Hour')
plt.xlabel('Transaction Hour')
plt.ylabel('Amount')


pd.pivot_table(data= dfx_all, index= 'Account officer', columns= ['Account Type'], values= 'Customer_id', 
               aggfunc= 'count', fill_value= 0, margins= True, margins_name= 'Total Account Manage')


dfx_all.groupby('City')['Bank Loans'].sum().plot(kind = 'bar', figsize = [12,6]);
plt.title('Bank Loan by City')
plt.xlabel('City')
plt.ylabel('Bank Loan');


plt.figure(figsize=[12,6])
sb.barplot(data = dfx_all, x = 'City', y= 'Bank Deposit', errorbar= None)
plt.title('Average Bank Deposit by City')
plt.xlabel('City')
plt.ylabel('Average Bank Deposit')
plt.xticks(rotation = 90);



plt.figure(figsize=[12,6])
sb.barplot(data = dfx_all, x = 'City', y= 'Saving Accounts', errorbar= None)
plt.title('Average Saving Accounts by City')
plt.xlabel('City')
plt.ylabel('Average Saving Accounts')
plt.xticks(rotation = 90);


dfx_all.groupby('Occupation')['Bank Deposit'].mean().plot(kind = 'bar', figsize = [10,6],
                                                         xlabel = 'Occupation', ylabel = 'Bank Deposit', title = 'Bank Deposit by Occupation');
